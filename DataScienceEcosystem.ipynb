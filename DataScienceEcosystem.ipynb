{
 "cells": [
  {
   "cell_type": "markdown",
   "id": "4fa1008f",
   "metadata": {},
   "source": [
    "# Data Science Tools and Ecosystem"
   ]
  },
  {
   "cell_type": "markdown",
   "id": "419d34cf",
   "metadata": {},
   "source": [
    "## Author\n",
    "Daniella Factor"
   ]
  },
  {
   "cell_type": "markdown",
   "id": "e64a81a3",
   "metadata": {},
   "source": [
    "This notebook will include an introduction to fundamental data science tools and the ecosystem in which they operate in."
   ]
  },
  {
   "cell_type": "markdown",
   "id": "f7ad3854",
   "metadata": {},
   "source": [
    "**Objectives:**\n",
    "\n",
    "- List popular data science languages\n",
    "- List commonly used data science libraries\n",
    "- List open-source data science tools\n",
    "- Understand how to evaluate simple mathematical expressions in Python"
   ]
  },
  {
   "cell_type": "markdown",
   "id": "395ed43d",
   "metadata": {},
   "source": [
    "Some popular languages that data scientists utilize include:\n",
    "\n",
    "1. Python\n",
    "2. R\n",
    "3. SQL"
   ]
  },
  {
   "cell_type": "markdown",
   "id": "38242d10",
   "metadata": {},
   "source": [
    "Some commonly used libraries to run data science tasks include:\n",
    "\n",
    "1. pandas - manipulate dataframes in Python\n",
    "2. ggplot - data visualization package in R\n",
    "3. matplotlib - data visualization package in Python"
   ]
  },
  {
   "cell_type": "markdown",
   "id": "2e69797a",
   "metadata": {},
   "source": [
    "| Data Science Tools |\n",
    "| ------------------ |\n",
    "| RStudio |\n",
    "| TensorFlow |\n",
    "| Apache Spark |"
   ]
  },
  {
   "cell_type": "markdown",
   "id": "c0107bda",
   "metadata": {},
   "source": [
    "### Below are a few examples of evaluzating arithmetic expressions in Python:"
   ]
  },
  {
   "cell_type": "code",
   "execution_count": 1,
   "id": "a9db9978",
   "metadata": {},
   "outputs": [
    {
     "data": {
      "text/plain": [
       "17"
      ]
     },
     "execution_count": 1,
     "metadata": {},
     "output_type": "execute_result"
    }
   ],
   "source": [
    "# This is a simple arithmetic expression to multiply then add integers\n",
    "(3*4)+5"
   ]
  },
  {
   "cell_type": "code",
   "execution_count": 2,
   "id": "1b5f36de",
   "metadata": {},
   "outputs": [
    {
     "data": {
      "text/plain": [
       "3.3333333333333335"
      ]
     },
     "execution_count": 2,
     "metadata": {},
     "output_type": "execute_result"
    }
   ],
   "source": [
    "# This expression will convert 200 minutes to hours by dividing by 60\n",
    "200/60"
   ]
  }
 ],
 "metadata": {
  "kernelspec": {
   "display_name": "Python 3 (ipykernel)",
   "language": "python",
   "name": "python3"
  },
  "language_info": {
   "codemirror_mode": {
    "name": "ipython",
    "version": 3
   },
   "file_extension": ".py",
   "mimetype": "text/x-python",
   "name": "python",
   "nbconvert_exporter": "python",
   "pygments_lexer": "ipython3",
   "version": "3.11.3"
  }
 },
 "nbformat": 4,
 "nbformat_minor": 5
}
